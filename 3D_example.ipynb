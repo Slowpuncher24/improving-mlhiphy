{
 "cells": [
  {
   "cell_type": "markdown",
   "metadata": {},
   "source": [
    "## 3D\n",
    "\n",
    "\n",
    "#### Problem Setup\n",
    "\n",
    "$0 = u_{xx} + u_y + \\phi u_t$\n",
    "\n",
    "For the generation of our training data we use:\n",
    "\n",
    "$u: \\mathbb{R}^3 \\rightarrow \\mathbb{R}, \\; u(x,y,t) = x + y + t$ <br>\n",
    "$f: \\mathbb{R}^3 \\rightarrow \\mathbb{R}, \\;f(x,y,t) = 0$ <br>\n",
    "$X_i := (x_i, y_i, t_i) \\in [0,1] \\times [0,1] \\times [0, 0.135] \\subseteq \\mathbb{R}^3$ for $i \\in \\{1, \\dotsc, n\\}$\n",
    "\n",
    "and our known function values will be $\\{u(X_i), f(X_i)\\}_{i \\in \\{1, \\dotsc, n\\}}$.\n",
    "\n",
    "We assume that $u$ can be represented as a Gaussian process with SE kernel:\n",
    "\n",
    "$u \\sim \\mathcal{GP}(0, k_{uu}(X_i, X_j; \\theta))$, where $\\theta = \\{\\sigma, l_x, l_y, l_t\\}$.\n",
    "\n",
    "Set the linear operator to:\n",
    "\n",
    "$\\mathcal{L}_X^{\\phi} := \\partial_{xx} + \\partial_y + \\phi \\partial_t$\n",
    "\n",
    "so that\n",
    "\n",
    "$\\mathcal{L}_X^{\\phi} u = f$\n",
    "\n",
    "Problem at hand: Estimate $\\phi$ (we expect $\\phi = -1$).\n",
    "\n",
    "\n",
    "#### Step 1: Simulate data"
   ]
  },
  {
   "cell_type": "code",
   "execution_count": 15,
   "metadata": {},
   "outputs": [],
   "source": [
    "import time\n",
    "import numpy as np\n",
    "import sympy as sp\n",
    "from scipy.linalg import solve_triangular\n",
    "import scipy.optimize as opt"
   ]
  },
  {
   "cell_type": "code",
   "execution_count": 16,
   "metadata": {},
   "outputs": [],
   "source": [
    "# Global variables: x, y, t, n, y_u, y_f, s"
   ]
  },
  {
   "cell_type": "markdown",
   "metadata": {},
   "source": [
    "*Parameters, that can be modified:*"
   ]
  },
  {
   "cell_type": "code",
   "execution_count": 17,
   "metadata": {},
   "outputs": [],
   "source": [
    "# Number of data samples:\n",
    "n = 20\n",
    "\n",
    "# Noise parameter:\n",
    "s = 1e-7"
   ]
  },
  {
   "cell_type": "code",
   "execution_count": 18,
   "metadata": {},
   "outputs": [],
   "source": [
    "def simulate_data():\n",
    "    x = np.random.rand(n)\n",
    "    y = np.random.rand(n)\n",
    "    t = np.array([0.015*np.random.randint(10) for i in range(n)])\n",
    "    y_u = x + y + t\n",
    "    y_f = 0*np.ones(n)\n",
    "    return (x,y,t,y_u,y_f)\n",
    "(x,y,t,y_u,y_f) = simulate_data()"
   ]
  },
  {
   "cell_type": "markdown",
   "metadata": {},
   "source": [
    "#### Step 2: Evaluate kernels\n",
    "\n",
    "$k_{uu}(X_i, X_j; \\theta) = \\sigma \\cdot exp(-\\frac{1}{2l_x}(x_i-x_j)^2 - \\frac{1}{2l_y}(y_i-y_j)^2 - \\frac{1}{2l_t}(t_i-t_j)^2)$"
   ]
  },
  {
   "cell_type": "code",
   "execution_count": 19,
   "metadata": {},
   "outputs": [],
   "source": [
    "x_i, x_j, y_i, y_j, t_i, t_j, sigma, l_x, l_y, l_t, phi = sp.symbols('x_i x_j y_i y_j t_i t_j sigma \\\n",
    "                                                                     l_x l_y l_t phi')\n",
    "kuu_sym = sigma*sp.exp(-1/(2*l_x)*((x_i - x_j)**2) - 1/(2*l_y)*((y_i - y_j)**2) - 1/(2*l_t)*((t_i - t_j)**2))\n",
    "kuu_fn = sp.lambdify((x_i, x_j, y_i, y_j, t_i, t_j, sigma, l_x, l_y, l_t), kuu_sym, \"numpy\")\n",
    "def kuu(x, y, t, sigma, l_x, l_y, l_t):\n",
    "    k = np.zeros((x.size, x.size))\n",
    "    for i in range(x.size):\n",
    "        for j in range(x.size):\n",
    "            k[i,j] = kuu_fn(x[i], x[j], y[i], y[j], t[i], t[j], sigma, l_x, l_y, l_t)\n",
    "    return k"
   ]
  },
  {
   "cell_type": "markdown",
   "metadata": {},
   "source": [
    "$k_{ff}(X_i,X_j;\\theta,\\phi)$ <br>\n",
    "$= \\mathcal{L}_{X_i}^{\\phi} \\mathcal{L}_{X_j}^{\\phi} k_{uu}(X_i, X_j; \\theta)$ <br>\n",
    "$= \\partial_{x_i, x_j}k_{uu} + \\partial_{y_i, x_j}k_{uu} + \\phi \\partial_{t_i, x_j}k_{uu}$ <br>\n",
    "$+ \\partial_{x_i, y_j}k_{uu} + \\partial_{y_i, y_j}k_{uu} + \\phi \\partial_{t_i, y_j}k_{uu}$ <br>\n",
    "$+ \\phi \\partial_{x_i, t_j}k_{uu} + \\phi \\partial_{y_i, t_j}k_{uu} + \\phi^2 \\partial_{t_i, t_j}k_{uu}$ <br>"
   ]
  },
  {
   "cell_type": "code",
   "execution_count": 20,
   "metadata": {},
   "outputs": [],
   "source": [
    "kff_sym = sp.diff(kuu_sym, x_i, x_i, x_j, x_j) \\\n",
    "        + sp.diff(kuu_sym, y_i, x_j, x_j) \\\n",
    "        + phi*sp.diff(kuu_sym, t_i, x_j, x_j) \\\n",
    "        + sp.diff(kuu_sym, x_i, x_i, y_j) \\\n",
    "        + sp.diff(kuu_sym, y_i, y_j) \\\n",
    "        + phi*sp.diff(kuu_sym, t_i, y_j) \\\n",
    "        + phi*sp.diff(kuu_sym, x_i, x_i, t_j) \\\n",
    "        + phi*sp.diff(kuu_sym, y_i, t_j) \\\n",
    "        + phi**2*sp.diff(kuu_sym, t_i, t_j)\n",
    "kff_fn = sp.lambdify((x_i, x_j, y_i, y_j, t_i, t_j, sigma, l_x, l_y, l_t, phi), kff_sym, \"numpy\")\n",
    "def kff(x, y, t, sigma, l_x, l_y, l_t, phi):\n",
    "    k = np.zeros((x.size, x.size))\n",
    "    for i in range(x.size):\n",
    "        for j in range(x.size):\n",
    "            k[i,j] = kff_fn(x[i], x[j], y[i], y[j], t[i], t[j], sigma, l_x, l_y, l_t, phi)\n",
    "    return k"
   ]
  },
  {
   "cell_type": "markdown",
   "metadata": {},
   "source": [
    "$k_{fu}(X_i,X_j;\\theta,\\phi) \\\\\n",
    "= \\mathcal{L}_{X_i}^{\\phi} k_{uu}(X_i, X_j; \\theta) \\\\\n",
    "= \\partial_{x_i}k_{uu} + \\partial_{y_i}k_{uu} + \\phi \\partial_{t_i}k_{uu}$"
   ]
  },
  {
   "cell_type": "code",
   "execution_count": 21,
   "metadata": {},
   "outputs": [],
   "source": [
    "kfu_sym = sp.diff(kuu_sym, x_i, x_i) \\\n",
    "        + sp.diff(kuu_sym, y_i) \\\n",
    "        + phi*sp.diff(kuu_sym, t_i) \n",
    "kfu_fn = sp.lambdify((x_i, x_j, y_i, y_j, t_i, t_j, sigma, l_x, l_y, l_t, phi), kfu_sym, \"numpy\")\n",
    "def kfu(x, y, t, sigma, l_x, l_y, l_t, phi):\n",
    "    k = np.zeros((x.size, x.size))\n",
    "    for i in range(x.size):\n",
    "        for j in range(x.size):\n",
    "            k[i,j] = kfu_fn(x[i], x[j], y[i], y[j], t[i], t[j], sigma, l_x, l_y, l_t, phi)\n",
    "    return k"
   ]
  },
  {
   "cell_type": "code",
   "execution_count": 22,
   "metadata": {},
   "outputs": [],
   "source": [
    "def kuf(x, y, t, sigma, l_x, l_y, l_t, phi):\n",
    "    return kfu(x, y, t, sigma, l_x, l_y, l_t, phi).T"
   ]
  },
  {
   "cell_type": "markdown",
   "metadata": {},
   "source": [
    "#### Step 3: Computing the negative log-likelihood \n",
    "(with block matrix inversion, Cholesky decomposition, potentially SVD)"
   ]
  },
  {
   "cell_type": "code",
   "execution_count": 23,
   "metadata": {},
   "outputs": [],
   "source": [
    "def nlml(params):\n",
    "    \n",
    "    sigma_exp = np.exp(params[0])\n",
    "    l_x_exp = np.exp(params[1])\n",
    "    l_y_exp = np.exp(params[2]) \n",
    "    l_t_exp = np.exp(params[3])\n",
    "    # phi = params[4]\n",
    "    \n",
    "    A = kuu(x, y, t, sigma_exp, l_x_exp, l_y_exp, l_t_exp) + s*np.eye(n)\n",
    "    B = kfu(x, y, t, sigma_exp, l_x_exp, l_y_exp, l_t_exp, params[4]).T\n",
    "    C = kff(x, y, t, sigma_exp, l_x_exp, l_y_exp, l_t_exp, params[4]) + s*np.eye(n)\n",
    "    \n",
    "    # Inversion of A\n",
    "    A_inv = np.zeros((n, n))\n",
    "    \n",
    "    try:\n",
    "        L = np.linalg.cholesky(A)\n",
    "        L_inv = solve_triangular(L, np.identity(n), lower=True) # Slight performance boost \n",
    "                                                                # over np.linalg.inv\n",
    "        A_inv = L_inv.T @ L_inv\n",
    "        logdet_A = 2*np.log(np.abs(np.diag(L))).sum()\n",
    "    except np.linalg.LinAlgError:\n",
    "        # Inverse of K via SVD\n",
    "        u, s_mat, vt = np.linalg.svd(A)\n",
    "        A_inv = vt.T @ np.linalg.inv(np.diag(s_mat)) @ u.T\n",
    "        logdet_A = np.log(s_mat).sum()\n",
    "        \n",
    "    # Inversion of $C-B^T A^{-1} B$\n",
    "    KA_inv = np.zeros((n, n))\n",
    "    KA = C - B.T @ A_inv @ B\n",
    "    \n",
    "    try:\n",
    "        L = np.linalg.cholesky(KA)\n",
    "        L_inv = solve_triangular(L, np.identity(n), lower=True) # Slight performance boost \n",
    "                                                                # over np.linalg.inv\n",
    "        KA_inv = L_inv.T @ L_inv\n",
    "        logdet_KA = 2*np.log(np.abs(np.diag(L))).sum()\n",
    "    except np.linalg.LinAlgError:\n",
    "        # Inverse of K via SVD\n",
    "        u, s_mat, vt = np.linalg.svd(KA)\n",
    "        KA_inv = vt.T @ np.linalg.inv(np.diag(s_mat)) @ u.T\n",
    "        logdet_KA = np.log(s_mat).sum()\n",
    "        \n",
    "    # Piecing it together\n",
    "    T = A_inv @ B @ KA_inv\n",
    "    yKy = y_u @ (A_inv + T @ B.T @ A_inv) @ y_u - 2*y_u @ T @ y_f + y_f @ KA_inv @ y_f\n",
    "    \n",
    "    return yKy + logdet_A + logdet_KA"
   ]
  },
  {
   "cell_type": "markdown",
   "metadata": {},
   "source": [
    "#### Step 4: Optimize hyperparameters"
   ]
  },
  {
   "cell_type": "markdown",
   "metadata": {},
   "source": [
    "**1. Nelder-Mead**"
   ]
  },
  {
   "cell_type": "code",
   "execution_count": 24,
   "metadata": {},
   "outputs": [],
   "source": [
    "def callbackf(params):\n",
    "    print(params)"
   ]
  },
  {
   "cell_type": "code",
   "execution_count": 27,
   "metadata": {},
   "outputs": [],
   "source": [
    "def minimize_restarts(x,y,y_u,y_f,n=5): \n",
    "    all_results = []\n",
    "    for it in range(0,n):\n",
    "        all_results.append(opt.minimize(nlml, np.random.rand(5), callback = callbackf, \n",
    "                                        method=\"Nelder-Mead\", \n",
    "                                        options={'maxfev':5000, 'fatol':0.001, 'xatol':0.001}))\n",
    "    return min(all_results, key = lambda x: x.fun)"
   ]
  },
  {
   "cell_type": "code",
   "execution_count": null,
   "metadata": {},
   "outputs": [],
   "source": [
    "t0 = time.time()\n",
    "m = minimize_restarts(x, y, y_u, y_f, 3)\n",
    "t_Nelder = time.time() - t0\n",
    "print(m)"
   ]
  },
  {
   "cell_type": "code",
   "execution_count": 29,
   "metadata": {},
   "outputs": [
    {
     "data": {
      "text/plain": [
       "264.58030796051025"
      ]
     },
     "execution_count": 29,
     "metadata": {},
     "output_type": "execute_result"
    }
   ],
   "source": [
    "t_Nelder"
   ]
  },
  {
   "cell_type": "code",
   "execution_count": 30,
   "metadata": {},
   "outputs": [
    {
     "name": "stdout",
     "output_type": "stream",
     "text": [
      "The inferred parameter is: -1.004052962023918\n"
     ]
    }
   ],
   "source": [
    "print('The inferred parameter is:', m.x[4])"
   ]
  },
  {
   "cell_type": "code",
   "execution_count": null,
   "metadata": {},
   "outputs": [],
   "source": []
  }
 ],
 "metadata": {
  "kernelspec": {
   "display_name": "Python 3",
   "language": "python",
   "name": "python3"
  },
  "language_info": {
   "codemirror_mode": {
    "name": "ipython",
    "version": 3
   },
   "file_extension": ".py",
   "mimetype": "text/x-python",
   "name": "python",
   "nbconvert_exporter": "python",
   "pygments_lexer": "ipython3",
   "version": "3.6.7"
  }
 },
 "nbformat": 4,
 "nbformat_minor": 2
}
