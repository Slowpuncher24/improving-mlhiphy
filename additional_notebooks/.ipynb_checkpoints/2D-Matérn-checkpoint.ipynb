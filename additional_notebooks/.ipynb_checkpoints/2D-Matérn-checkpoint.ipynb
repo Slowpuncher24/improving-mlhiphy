{
 "cells": [
  {
   "cell_type": "markdown",
   "metadata": {},
   "source": [
    "## PDE 1 - 2D\n",
    "\n",
    "\n",
    "#### Problem Setup\n",
    "\n",
    "$\\phi u + u_{x} + u_{y,y} = f(x,y)$\n",
    "\n",
    "For the generation of our initial data samples we use:\n",
    "\n",
    "$\\phi = 2$ <br>\n",
    "$u: \\mathbb{R}^2 \\rightarrow \\mathbb{R}, \\; u(x,y) = x^2 + y$ <br>\n",
    "$f: \\mathbb{R}^2 \\rightarrow \\mathbb{R}, \\;f(x,y) = 2(x^2 + x + y)$ <br>\n",
    "$X_i := (x_i, y_i) \\in [0,1] \\times [0,1] \\in \\mathbb{R}^2$ for $i \\in \\{1, \\dotsc, n\\}$ \n",
    "\n",
    "and our known function values will be $\\{u(x_i,y_i), f(x_i,y_i)\\}_{i \\in \\{1, \\dotsc, n\\}}$.\n",
    "\n",
    "We assume that $u$ can be represented as a Gaussian process with Matérn kernel, where $\\nu = 5/2$.\n",
    "\n",
    "$u \\sim \\mathcal{GP}(0, k_{uu}(X_i, X_j; \\theta))$, where $\\theta = \\{\\sigma, l_x, l_y\\}$.\n",
    "\n",
    "Set the linear operator to:\n",
    "\n",
    "$\\mathcal{L}_X^{\\phi} := \\phi + \\partial_x + \\partial_{y,y}$\n",
    "\n",
    "so that\n",
    "\n",
    "$\\mathcal{L}_X^{\\phi} u = f$\n",
    "\n",
    "Problem at hand: Estimate $\\phi$ (we expect $\\phi = 2$).\n",
    "\n",
    "\n",
    "#### Step 1: Simulate data"
   ]
  },
  {
   "cell_type": "code",
   "execution_count": 1,
   "metadata": {},
   "outputs": [],
   "source": [
    "import time\n",
    "import numpy as np\n",
    "import sympy as sp\n",
    "from scipy.linalg import solve_triangular\n",
    "import scipy.optimize as opt"
   ]
  },
  {
   "cell_type": "code",
   "execution_count": 2,
   "metadata": {},
   "outputs": [],
   "source": [
    "# Global variables: x, y, n, y_u, y_f, s"
   ]
  },
  {
   "cell_type": "markdown",
   "metadata": {},
   "source": [
    "*Parameters, that can be modified:*"
   ]
  },
  {
   "cell_type": "code",
   "execution_count": 3,
   "metadata": {},
   "outputs": [],
   "source": [
    "# Number of data samples:\n",
    "n = 20\n",
    "\n",
    "# Noise of our data:\n",
    "s = 1e-7\n",
    "\n",
    "# Circumventing evaluations of kernel-derivatives at zero:\n",
    "corr_nan = 1e-4"
   ]
  },
  {
   "cell_type": "code",
   "execution_count": 4,
   "metadata": {},
   "outputs": [],
   "source": [
    "def simulate_data():\n",
    "    x = np.random.rand(n)\n",
    "    y = np.random.rand(n)\n",
    "    y_u = np.multiply(x,x) + y\n",
    "    y_f = 2*(np.multiply(x,x) + x + y)\n",
    "    return (x,y,y_u,y_f)\n",
    "(x,y,y_u,y_f) = simulate_data()"
   ]
  },
  {
   "cell_type": "markdown",
   "metadata": {},
   "source": [
    "#### Step 2: Evaluate kernels\n",
    "\n",
    "$k_{uu}(X_i, X_j; \\theta) = \\sigma \\left( 1+ \\sqrt{5}r_l + \\frac{5}{3}r_l^2 \\right) \\exp \\left( -\\sqrt{5}r_l \\right)$, where:\n",
    "\n",
    "$r_l = \\sqrt{\\frac{1}{l_x^2}(x_i-x_j)^2 + \\frac{1}{l_y^2}(y_i-y_j)^2}$"
   ]
  },
  {
   "cell_type": "markdown",
   "metadata": {},
   "source": [
    "#### Step 2: Evaluate kernels\n",
    "\n",
    "$k_{uu}(X_i, X_j; \\theta) = \\sigma exp(-\\frac{1}{2l_x}(x_i-x_j)^2 - \\frac{1}{2l_y}(y_i-y_j)^2)$"
   ]
  },
  {
   "cell_type": "code",
   "execution_count": 5,
   "metadata": {},
   "outputs": [],
   "source": [
    "x_i, x_j, y_i, y_j, sigma, l_x, l_y, phi = sp.symbols('x_i x_j y_i y_j sigma l_x l_y phi')\n",
    "# kuu_sym = sigma*sp.exp(-1/(2*l_x)*((x_i - x_j)**2) - 1/(2*l_y)*((y_i - y_j)**2))\n",
    "r_l = sp.sqrt((x_i - x_j)**2/l_x + (y_i - y_j)**2/l_y)\n",
    "kuu_sym = sigma*(1 + sp.sqrt(5)*r_l + 5/3*r_l**2)*sp.exp(-sp.sqrt(5)*r_l)\n",
    "kuu_fn = sp.lambdify((x_i, x_j, y_i, y_j, sigma, l_x, l_y), kuu_sym, \"numpy\")\n",
    "def kuu(x, y, sigma, l_x, l_y):\n",
    "    k = np.zeros((x.size, x.size))\n",
    "    for i in range(x.size):\n",
    "        for j in range(x.size):\n",
    "            k[i,j] = kuu_fn(x[i], x[j], y[i], y[j], sigma, l_x, l_y)\n",
    "    return k"
   ]
  },
  {
   "cell_type": "markdown",
   "metadata": {},
   "source": [
    "$k_{ff}(X_i,X_j;\\theta,\\phi) \\\\\n",
    "= \\mathcal{L}_{X_i}^{\\phi} \\mathcal{L}_{X_j}^{\\phi} k_{uu}(X_i, X_j; \\theta) \\\\\n",
    "= \\phi^2k_{uu} + \\phi \\frac{\\partial}{\\partial x_i}k_{uu} + \\phi \\frac{\\partial^2}{\\partial y_i^2}k_{uu} + \\phi \\frac{\\partial}{\\partial x_j}k_{uu} + \\frac{\\partial^2}{\\partial x_i, x_j}k_{uu} + \\frac{\\partial^3}{\\partial y_i^2 \\partial x_j}k_{uu} + \\phi \\frac{\\partial^2}{\\partial y_j^2}k_{uu} + \\frac{\\partial^3}{\\partial x_i \\partial y_j^2}k_{uu} + \\frac{\\partial^4}{\\partial y_i^2 \\partial y_j^2}k_{uu}$"
   ]
  },
  {
   "cell_type": "code",
   "execution_count": 6,
   "metadata": {},
   "outputs": [],
   "source": [
    "kff_sym = phi**2*kuu_sym \\\n",
    "        + phi*sp.diff(kuu_sym, x_i) \\\n",
    "        + phi*sp.diff(kuu_sym, y_i, y_i) \\\n",
    "        + phi*sp.diff(kuu_sym, x_j) \\\n",
    "        + sp.diff(kuu_sym, x_i, x_j) \\\n",
    "        + sp.diff(kuu_sym, y_i, y_i, x_j) \\\n",
    "        + phi*sp.diff(kuu_sym, y_j, y_j) \\\n",
    "        + sp.diff(kuu_sym, x_i, y_j, y_j) \\\n",
    "        + sp.diff(kuu_sym, y_i, y_i, y_j, y_j)\n",
    "kff_fn = sp.lambdify((x_i, x_j, y_i, y_j, sigma, l_x, l_y, phi), kff_sym, \"numpy\")\n",
    "def kff(x, y, sigma, l_x, l_y, phi):\n",
    "    k = np.zeros((x.size, x.size))\n",
    "    for i in range(x.size):\n",
    "        for j in range(x.size):\n",
    "            if i == j:\n",
    "                k[i,j] = kff_fn(x[i], x[j] + corr_nan, y[i], y[j] + corr_nan, sigma, l_x, l_y, phi)\n",
    "            else:\n",
    "                k[i,j] = kff_fn(x[i], x[j], y[i], y[j], sigma, l_x, l_y, phi)\n",
    "    return k"
   ]
  },
  {
   "cell_type": "markdown",
   "metadata": {},
   "source": [
    "$k_{fu}(X_i,X_j;\\theta,\\phi) \\\\\n",
    "= \\mathcal{L}_{X_i}^{\\phi} k_{uu}(X_i, X_j; \\theta) \\\\\n",
    "= \\phi k_{uu} + \\frac{\\partial}{\\partial x_i}k_{uu} + \\frac{\\partial^2}{\\partial y_i^2}k_{uu}$"
   ]
  },
  {
   "cell_type": "code",
   "execution_count": 7,
   "metadata": {},
   "outputs": [],
   "source": [
    "kfu_sym = phi*kuu_sym \\\n",
    "        + sp.diff(kuu_sym, x_i) \\\n",
    "        + sp.diff(kuu_sym, y_i, y_i)\n",
    "kfu_fn = sp.lambdify((x_i, x_j, y_i, y_j, sigma, l_x, l_y, phi), kfu_sym, \"numpy\")\n",
    "def kfu(x, y, sigma, l_x, l_y, phi):\n",
    "    k = np.zeros((x.size, x.size))\n",
    "    for i in range(x.size):\n",
    "        for j in range(x.size):\n",
    "            if i == j:\n",
    "                k[i,j] = kfu_fn(x[i], x[j] + corr_nan, y[i], y[j] + corr_nan, sigma, l_x, l_y, phi)\n",
    "            else:\n",
    "                k[i,j] = kfu_fn(x[i], x[j], y[i], y[j], sigma, l_x, l_y, phi)\n",
    "    return k"
   ]
  },
  {
   "cell_type": "code",
   "execution_count": 8,
   "metadata": {},
   "outputs": [],
   "source": [
    "def kuf(x, y, sigma, l_x, l_y, phi):\n",
    "    return kfu(x, y, sigma, l_x, l_y, phi).T"
   ]
  },
  {
   "cell_type": "markdown",
   "metadata": {},
   "source": [
    "#### Step 3: Computing the negative log-likelihood (with block matrix inversion, Cholesky decomposition, potentially SVD)"
   ]
  },
  {
   "cell_type": "markdown",
   "metadata": {},
   "source": [
    "We use the block-inversion technique: Let\n",
    "$ K = \\begin{pmatrix} K_{uu} & K_{uf} \\\\ K_{fu} & K_{ff} \\end{pmatrix} = \\begin{pmatrix} A & B \\\\ B^T & C \\end{pmatrix}$. \n",
    "\n",
    "Then $det(K) = det(A) det(C-B^T A^{-1} B)$.\n",
    "\n",
    "$K^{-1} = \\begin{pmatrix} A^{-1} + A^{-1} B(C-B^T A^{-1} B)^{-1}B^T A^{-1} & -A^{-1}B(C-B^T A^{-1} B)^{-1} \\\\\n",
    "            -(C - B^T A^{-1}B)^{-1}B^T A^{-1} & (C-B^T A^{-1} B)^{-1} \\end{pmatrix}$\n",
    "            \n",
    "So it suffices to invert $A$ and $C-B^T A^{-1} B$.\n",
    "\n",
    "A theorem about Schur-complements ensures that $K$ positive-definite implies the positive-definiteness of $K/A = C-B^T A^{-1} B$ as well, so Cholesky should work as well."
   ]
  },
  {
   "cell_type": "code",
   "execution_count": 9,
   "metadata": {},
   "outputs": [],
   "source": [
    "def nlml(params):\n",
    "    \n",
    "    sigma_exp = np.exp(params[0])\n",
    "    l_x_exp = np.exp(params[1])\n",
    "    l_y_exp = np.exp(params[2])\n",
    "    # phi = params[3]\n",
    "    \n",
    "    A = kuu(x, y, sigma_exp, l_x_exp, l_y_exp) + s*np.eye(n)\n",
    "    B = kfu(x, y, sigma_exp, l_x_exp, l_y_exp, params[3]).T\n",
    "    C = kff(x, y, sigma_exp, l_x_exp, l_y_exp, params[3]) + s*np.eye(n)\n",
    "    \n",
    "    # Inversion of A\n",
    "    A_inv = np.zeros((n, n))\n",
    "    \n",
    "    try:\n",
    "        L = np.linalg.cholesky(A)\n",
    "        L_inv = solve_triangular(L, np.identity(n), lower=True) # Slight performance boost over np.linalg.inv\n",
    "        A_inv = L_inv.T @ L_inv\n",
    "        logdet_A = 2*np.log(np.abs(np.diag(L))).sum()\n",
    "    except np.linalg.LinAlgError:\n",
    "        # Inverse of K via SVD\n",
    "        u, s_mat, vt = np.linalg.svd(A)\n",
    "        A_inv = vt.T @ np.linalg.inv(np.diag(s_mat)) @ u.T\n",
    "        logdet_A = np.log(s_mat).sum()\n",
    "        \n",
    "    # Inversion of $C-B^T A^{-1} B$\n",
    "    KA_inv = np.zeros((n, n))\n",
    "    KA = C - B.T @ A_inv @ B\n",
    "    \n",
    "    try:\n",
    "        L = np.linalg.cholesky(KA)\n",
    "        L_inv = solve_triangular(L, np.identity(n), lower=True) # Slight performance boost over np.linalg.inv\n",
    "        KA_inv = L_inv.T @ L_inv\n",
    "        logdet_KA = 2*np.log(np.abs(np.diag(L))).sum()\n",
    "    except np.linalg.LinAlgError:\n",
    "        # Inverse of K via SVD\n",
    "        u, s_mat, vt = np.linalg.svd(KA)\n",
    "        KA_inv = vt.T @ np.linalg.inv(np.diag(s_mat)) @ u.T\n",
    "        logdet_KA = np.log(s_mat).sum()\n",
    "        \n",
    "    # Piecing it together\n",
    "    T = A_inv @ B @ KA_inv\n",
    "    yKy = y_u @ (A_inv + T @ B.T @ A_inv) @ y_u - 2*y_u @ T @ y_f + y_f @ KA_inv @ y_f\n",
    "    \n",
    "    return (yKy + logdet_A + logdet_KA)"
   ]
  },
  {
   "cell_type": "markdown",
   "metadata": {},
   "source": [
    "#### Step 4: Optimize hyperparameters"
   ]
  },
  {
   "cell_type": "markdown",
   "metadata": {},
   "source": [
    "**1. Nelder-Mead**"
   ]
  },
  {
   "cell_type": "code",
   "execution_count": null,
   "metadata": {},
   "outputs": [],
   "source": [
    "Nfeval = 1\n",
    "def callbackF(Xi):\n",
    "    global Nfeval\n",
    "    print('{0:4d}   {1: 3.6f}   {2: 3.6f}   {3: 3.6f}   {4: 3.6f}'.format(Nfeval, Xi[0], Xi[1], Xi[2], Xi[3]))\n",
    "    Nfeval += 1"
   ]
  },
  {
   "cell_type": "code",
   "execution_count": null,
   "metadata": {},
   "outputs": [
    {
     "name": "stdout",
     "output_type": "stream",
     "text": [
      "   1    0.116469    0.855215    0.775121    0.477083\n",
      "   2    0.116469    0.855215    0.775121    0.477083\n",
      "   3    0.123309    0.828168    0.764355    0.505104\n",
      "   4    0.116162    0.831066    0.691688    0.539053\n",
      "   5    0.116162    0.831066    0.691688    0.539053\n",
      "   6    0.125836    0.912892    0.534578    0.569342\n",
      "   7    0.128333    0.846944    0.551904    0.588551\n",
      "   8    0.128333    0.846944    0.551904    0.588551\n",
      "   9    0.122872    0.904948    0.453878    0.631832\n",
      "  10    0.122872    0.904948    0.453878    0.631832\n",
      "  11    0.124872    0.878539    0.611459    0.576872\n",
      "  12    0.120919    0.791329    0.590358    0.635649\n",
      "  13    0.120919    0.791329    0.590358    0.635649\n",
      "  14    0.115670    0.876094    0.519230    0.692109\n",
      "  15    0.115670    0.876094    0.519230    0.692109\n",
      "  16    0.114851    0.727819    0.486156    0.811356\n",
      "  17    0.099321    0.688238    0.675715    0.791815\n",
      "  18    0.096858    0.731916    0.575727    0.933497\n",
      "  19    0.096858    0.731916    0.575727    0.933497\n",
      "  20    0.070631    0.397356    0.615433    1.245740\n",
      "  21    0.039105    0.446060    0.778537    1.333032\n",
      "  22    0.039105    0.446060    0.778537    1.333032\n",
      "  23    0.039105    0.446060    0.778537    1.333032\n",
      "  24   -0.039403   -0.291289    1.087878    2.120186\n",
      "  25   -0.069474   -0.138654    1.362800    2.151536\n",
      "  26   -0.069474   -0.138654    1.362800    2.151536\n",
      "  27   -0.069474   -0.138654    1.362800    2.151536\n",
      "  28   -0.069474   -0.138654    1.362800    2.151536\n",
      "  29   -0.127399    0.034360    1.536209    2.360724\n",
      "  30   -0.084731    0.171930    1.762566    1.777245\n",
      "  31   -0.084731    0.171930    1.762566    1.777245\n",
      "  32   -0.126518    0.702353    2.138678    1.746479\n",
      "  33   -0.126518    0.702353    2.138678    1.746479\n",
      "  34   -0.126518    0.702353    2.138678    1.746479\n",
      "  35   -0.126518    0.702353    2.138678    1.746479\n",
      "  36   -0.215014    0.627021    2.736791    1.953716\n",
      "  37   -0.215014    0.627021    2.736791    1.953716\n",
      "  38   -0.215014    0.627021    2.736791    1.953716\n",
      "  39   -0.215014    0.627021    2.736791    1.953716\n",
      "  40   -0.215014    0.627021    2.736791    1.953716\n",
      "  41   -0.228991    1.277350    3.049812    1.620494\n",
      "  42   -0.228991    1.277350    3.049812    1.620494\n",
      "  43   -0.228991    1.277350    3.049812    1.620494\n",
      "  44   -0.228991    1.277350    3.049812    1.620494\n",
      "  45   -0.228991    1.277350    3.049812    1.620494\n",
      "  46   -0.210551    1.059475    2.814206    1.713414\n",
      "  47   -0.210551    1.059475    2.814206    1.713414\n",
      "  48   -0.210551    1.059475    2.814206    1.713414\n",
      "  49   -0.210551    1.059475    2.814206    1.713414\n",
      "  50   -0.210551    1.059475    2.814206    1.713414\n",
      "  51   -0.210551    1.059475    2.814206    1.713414\n",
      "  52   -0.210551    1.059475    2.814206    1.713414\n",
      "  53   -0.210551    1.059475    2.814206    1.713414\n",
      "  54   -0.210551    1.059475    2.814206    1.713414\n",
      "  55   -0.211074    1.034118    2.797632    1.740841\n",
      "  56   -0.211074    1.034118    2.797632    1.740841\n",
      "  57   -0.211074    1.034118    2.797632    1.740841\n",
      "  58   -0.211057    1.065889    2.806657    1.712115\n",
      "  59   -0.211057    1.065889    2.806657    1.712115\n",
      "  60   -0.211057    1.065889    2.806657    1.712115\n",
      "  61   -0.211057    1.065889    2.806657    1.712115\n",
      "  62   -0.211057    1.065889    2.806657    1.712115\n",
      "  63   -0.211057    1.065889    2.806657    1.712115\n",
      "  64   -0.210527    1.034738    2.793480    1.734199\n",
      "  65   -0.211422    1.073683    2.809308    1.713417\n",
      "  66   -0.211422    1.073683    2.809308    1.713417\n",
      "  67   -0.211422    1.073683    2.809308    1.713417\n",
      "  68   -0.211240    1.069786    2.807983    1.712766\n",
      "  69   -0.211240    1.069786    2.807983    1.712766\n",
      "  70   -0.211240    1.069786    2.807983    1.712766\n",
      "  71   -0.211240    1.069786    2.807983    1.712766\n",
      "  72   -0.211201    1.064832    2.805962    1.717461\n",
      "  73   -0.211201    1.064832    2.805962    1.717461\n",
      "  74   -0.211201    1.064832    2.805962    1.717461\n",
      "  75   -0.211201    1.064832    2.805962    1.717461\n",
      "  76   -0.211201    1.064832    2.805962    1.717461\n",
      "  77   -0.211201    1.064832    2.805962    1.717461\n",
      "  78   -0.211201    1.064832    2.805962    1.717461\n",
      "  79   -0.211201    1.064832    2.805962    1.717461\n",
      "  80   -0.211201    1.064832    2.805962    1.717461\n",
      "  81   -0.211201    1.064832    2.805962    1.717461\n",
      "  82   -0.211201    1.064832    2.805962    1.717461\n",
      "  83   -0.211201    1.064832    2.805962    1.717461\n",
      "  84   -0.211201    1.064832    2.805962    1.717461\n",
      "  85   -0.211201    1.064832    2.805962    1.717461\n",
      "  86   -0.211201    1.064832    2.805962    1.717461\n",
      "  87   -0.211201    1.064832    2.805962    1.717461\n",
      "  88   -0.211201    1.064832    2.805962    1.717461\n",
      "  89   -0.211201    1.064832    2.805962    1.717461\n",
      "  90   -0.211201    1.064832    2.805962    1.717461\n",
      "  91   -0.211201    1.064832    2.805962    1.717461\n",
      "  92   -0.211201    1.064832    2.805962    1.717461\n",
      "  93   -0.211201    1.064827    2.805961    1.717461\n",
      "  94   -0.211201    1.064827    2.805961    1.717461\n",
      "  95   -0.211201    1.064827    2.805961    1.717461\n",
      "  96   -0.211201    1.064827    2.805961    1.717461\n",
      "  97   -0.211201    1.064827    2.805961    1.717461\n",
      "  98   -0.211201    1.064827    2.805961    1.717461\n",
      "  99   -0.211201    1.064827    2.805961    1.717461\n",
      " 100   -0.211201    1.064829    2.805962    1.717460\n",
      " 101   -0.211201    1.064829    2.805962    1.717460\n",
      " 102   -0.211201    1.064829    2.805962    1.717460\n",
      " 103   -0.211201    1.064829    2.805962    1.717460\n",
      " 104   -0.211201    1.064829    2.805962    1.717460\n",
      " 105   -0.211201    1.064829    2.805962    1.717460\n",
      " 106   -0.211201    1.064829    2.805962    1.717460\n",
      " 107   -0.211201    1.064829    2.805962    1.717460\n",
      " 108   -0.211201    1.064829    2.805962    1.717460\n",
      " 109   -0.211201    1.064829    2.805962    1.717460\n",
      " 110   -0.211201    1.064829    2.805962    1.717460\n",
      " 111   -0.211201    1.064829    2.805962    1.717460\n",
      " 112   -0.211201    1.064829    2.805962    1.717460\n",
      " 113   -0.211201    1.064829    2.805962    1.717460\n",
      " 114   -0.211201    1.064829    2.805962    1.717460\n",
      " 115   -0.211201    1.064829    2.805962    1.717460\n",
      " 116   -0.211201    1.064829    2.805962    1.717460\n",
      " 117   -0.211201    1.064829    2.805962    1.717460\n",
      " 118   -0.211201    1.064829    2.805962    1.717460\n",
      " 119   -0.211201    1.064829    2.805962    1.717460\n",
      " 120   -0.211201    1.064829    2.805962    1.717460\n",
      " 121   -0.211201    1.064829    2.805962    1.717460\n",
      " 122   -0.211201    1.064829    2.805962    1.717460\n",
      " 123   -0.211201    1.064829    2.805962    1.717460\n",
      " 124   -0.211201    1.064829    2.805962    1.717460\n",
      " 125   -0.211201    1.064829    2.805962    1.717460\n",
      " 126   -0.211201    1.064829    2.805962    1.717460\n",
      " 127   -0.211201    1.064829    2.805962    1.717460\n",
      " 128   -0.211201    1.064829    2.805962    1.717460\n",
      " 129   -0.211201    1.064829    2.805962    1.717460\n",
      " 130   -0.211201    1.064829    2.805962    1.717460\n",
      " 131   -0.211201    1.064829    2.805962    1.717460\n",
      " 132   -0.211201    1.064829    2.805962    1.717460\n",
      " 133   -0.211201    1.064829    2.805962    1.717460\n",
      " 134   -0.211201    1.064829    2.805962    1.717460\n",
      " 135   -0.211201    1.064829    2.805962    1.717460\n",
      " 136   -0.211201    1.064829    2.805962    1.717460\n",
      " 137   -0.211201    1.064829    2.805962    1.717460\n",
      " 138   -0.211201    1.064829    2.805962    1.717460\n",
      " 139   -0.211201    1.064829    2.805962    1.717460\n",
      " 140   -0.211201    1.064829    2.805962    1.717460\n",
      " 141   -0.211201    1.064829    2.805962    1.717460\n",
      " 142   -0.211201    1.064829    2.805962    1.717460\n",
      " 143   -0.211201    1.064829    2.805962    1.717460\n",
      " 144   -0.211201    1.064829    2.805962    1.717460\n",
      " 145   -0.211201    1.064829    2.805962    1.717460\n",
      " 146   -0.211201    1.064829    2.805962    1.717460\n",
      " 147   -0.211201    1.064829    2.805962    1.717460\n",
      " 148   -0.211201    1.064829    2.805962    1.717460\n",
      " 149   -0.211201    1.064829    2.805962    1.717460\n",
      " 150   -0.211201    1.064829    2.805962    1.717460\n",
      " 151   -0.211201    1.064829    2.805962    1.717460\n",
      " 152   -0.211201    1.064829    2.805962    1.717460\n",
      " 153   -0.211201    1.064829    2.805962    1.717460\n",
      " 154   -0.211201    1.064829    2.805962    1.717460\n",
      " 155   -0.211201    1.064829    2.805962    1.717460\n"
     ]
    },
    {
     "name": "stdout",
     "output_type": "stream",
     "text": [
      " 156   -0.211201    1.064829    2.805962    1.717460\n",
      " 157   -0.211201    1.064829    2.805962    1.717460\n",
      " 158   -0.211201    1.064829    2.805962    1.717460\n",
      " 159   -0.211201    1.064829    2.805962    1.717460\n",
      " 160   -0.211201    1.064829    2.805962    1.717460\n",
      " 161   -0.211201    1.064829    2.805962    1.717460\n",
      " 162   -0.211201    1.064829    2.805962    1.717460\n",
      " 163   -0.211201    1.064829    2.805962    1.717460\n"
     ]
    }
   ],
   "source": [
    "t0 = time.time()\n",
    "m_n = opt.minimize(nlml, np.random.rand(4), method=\"Nelder-Mead\", callback = callbackF,\n",
    "                                        options={'maxfev':5000, 'fatol':0.001, 'xatol':0.001})\n",
    "t_Nelder = time.time() - t0"
   ]
  },
  {
   "cell_type": "code",
   "execution_count": null,
   "metadata": {},
   "outputs": [],
   "source": [
    "m_n"
   ]
  }
 ],
 "metadata": {
  "kernelspec": {
   "display_name": "Python 3",
   "language": "python",
   "name": "python3"
  },
  "language_info": {
   "codemirror_mode": {
    "name": "ipython",
    "version": 3
   },
   "file_extension": ".py",
   "mimetype": "text/x-python",
   "name": "python",
   "nbconvert_exporter": "python",
   "pygments_lexer": "ipython3",
   "version": "3.6.7"
  }
 },
 "nbformat": 4,
 "nbformat_minor": 2
}
