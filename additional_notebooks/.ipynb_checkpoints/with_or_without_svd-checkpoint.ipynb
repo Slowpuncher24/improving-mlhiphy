{
 "cells": [
  {
   "cell_type": "markdown",
   "metadata": {},
   "source": [
    "*This notebook shows that it is advisable to use SVD for the calculation of the nlml as it provides a more stable method to invert K.*"
   ]
  },
  {
   "cell_type": "markdown",
   "metadata": {},
   "source": [
    "## PDE 1 - 2D with 4 parameters\n",
    "\n",
    "\n",
    "#### Problem Setup\n",
    "\n",
    "$\\phi u + u_{x} + u_{y,y} = f(x,y)$\n",
    "\n",
    "For the generation of our initial data samples we use:\n",
    "\n",
    "$\\phi = 2$ <br>\n",
    "$X_i := (x_i, y_i) \\in [0,1] \\times [0,1]$ for $i \\in \\{1, \\dotsc, n\\}$ <br>\n",
    "$u(x,y) = x^2 + y$ <br>\n",
    "$f(x,y) = 2(x^2 + x + y)$\n",
    "\n",
    "\n",
    "We assume that $u$ can be represented as a Gaussian process with SE kernel.\n",
    "\n",
    "$u \\sim \\mathcal{GP}(0, k_{uu}(X_i, X_j; \\theta))$, where $\\theta = \\{\\sigma, l_x, l_y\\}$.\n",
    "\n",
    "And the linear operator:\n",
    "\n",
    "$\\mathcal{L}_X^{\\phi} = \\phi + \\partial_x + \\partial_{y,y}$\n",
    "\n",
    "so that\n",
    "\n",
    "$\\mathcal{L}_X^{\\phi} u = f$\n",
    "\n",
    "Problem at hand: Estimate $\\phi$ (the closer to $\\phi = 2$, the better).\n",
    "\n",
    "\n",
    "#### Step 1: Simulate data"
   ]
  },
  {
   "cell_type": "code",
   "execution_count": 1,
   "metadata": {},
   "outputs": [],
   "source": [
    "import time\n",
    "import numpy as np\n",
    "import sympy as sp\n",
    "from scipy.optimize import minimize"
   ]
  },
  {
   "cell_type": "markdown",
   "metadata": {},
   "source": [
    "*Parameters, that can be modified:*"
   ]
  },
  {
   "cell_type": "code",
   "execution_count": 2,
   "metadata": {},
   "outputs": [],
   "source": [
    "# Number of data samples:\n",
    "n = 40"
   ]
  },
  {
   "cell_type": "code",
   "execution_count": 3,
   "metadata": {},
   "outputs": [],
   "source": [
    "# np.random.seed(int(time.time()))\n",
    "def simulate_data():\n",
    "    x = np.random.rand(n)\n",
    "    y = np.random.rand(n)\n",
    "    y_u = np.multiply(x,x) + y\n",
    "    y_f = 2*(np.multiply(x,x) + x + y)\n",
    "    return (x,y,y_u,y_f)\n",
    "(x,y,y_u,y_f) = simulate_data()"
   ]
  },
  {
   "cell_type": "markdown",
   "metadata": {},
   "source": [
    "#### Step 2: Evaluate kernels\n",
    "\n",
    "$k_{uu}(X_i, X_j; \\theta) = \\sigma exp(-\\frac{1}{2l_x}(x_i-x_j)^2 - \\frac{1}{2l_y}(y_i-y_j)^2)$"
   ]
  },
  {
   "cell_type": "code",
   "execution_count": 4,
   "metadata": {},
   "outputs": [],
   "source": [
    "x_i, x_j, y_i, y_j, sigma, l_x, l_y, phi = sp.symbols('x_i x_j y_i y_j sigma l_x l_y phi')\n",
    "kuu_sym = sigma*sp.exp(-1/(2*l_x)*((x_i - x_j)**2) - 1/(2*l_y)*((y_i - y_j)**2))\n",
    "kuu_fn = sp.lambdify((x_i, x_j, y_i, y_j, sigma, l_x, l_y), kuu_sym, \"numpy\")\n",
    "def kuu(x, y, sigma, l_x, l_y):\n",
    "    k = np.zeros((x.size, x.size))\n",
    "    for i in range(x.size):\n",
    "        for j in range(x.size):\n",
    "            k[i,j] = kuu_fn(x[i], x[j], y[i], y[j], sigma, l_x, l_y)\n",
    "    return k"
   ]
  },
  {
   "cell_type": "markdown",
   "metadata": {},
   "source": [
    "$k_{ff}(X_i,X_j;\\theta,\\phi) \\\\\n",
    "= \\mathcal{L}_{X_i}^{\\phi} \\mathcal{L}_{X_j}^{\\phi} k_{uu}(X_i, X_j; \\theta) \\\\\n",
    "= \\phi^2k_{uu} + \\phi \\frac{\\partial}{\\partial x_i}k_{uu} + \\phi \\frac{\\partial^2}{\\partial y_i^2}k_{uu} + \\phi \\frac{\\partial}{\\partial x_j}k_{uu} + \\frac{\\partial^2}{\\partial x_i, x_j}k_{uu} + \\frac{\\partial^3}{\\partial y_i^2 \\partial x_j}k_{uu} + \\phi \\frac{\\partial^2}{\\partial y_j^2}k_{uu} + \\frac{\\partial^3}{\\partial x_i \\partial y_j^2}k_{uu} + \\frac{\\partial^4}{\\partial y_i^2 \\partial y_j^2}k_{uu}$"
   ]
  },
  {
   "cell_type": "code",
   "execution_count": 5,
   "metadata": {},
   "outputs": [],
   "source": [
    "kff_sym = phi**2*kuu_sym \\\n",
    "        + phi*sp.diff(kuu_sym, x_i) \\\n",
    "        + phi*sp.diff(kuu_sym, y_i, y_i) \\\n",
    "        + phi*sp.diff(kuu_sym, x_j) \\\n",
    "        + sp.diff(kuu_sym, x_i, x_j) \\\n",
    "        + sp.diff(kuu_sym, y_i, y_i, x_j) \\\n",
    "        + phi*sp.diff(kuu_sym, y_j, y_j) \\\n",
    "        + sp.diff(kuu_sym, x_i, y_j, y_j) \\\n",
    "        + sp.diff(kuu_sym, y_i, y_i, y_j, y_j)\n",
    "kff_fn = sp.lambdify((x_i, x_j, y_i, y_j, sigma, l_x, l_y, phi), kff_sym, \"numpy\")\n",
    "def kff(x, y, sigma, l_x, l_y, phi):\n",
    "    k = np.zeros((x.size, x.size))\n",
    "    for i in range(x.size):\n",
    "        for j in range(x.size):\n",
    "            k[i,j] = kff_fn(x[i], x[j], y[i], y[j], sigma, l_x, l_y, phi)\n",
    "    return k"
   ]
  },
  {
   "cell_type": "markdown",
   "metadata": {},
   "source": [
    "$k_{fu}(X_i,X_j;\\theta,\\phi) \\\\\n",
    "= \\mathcal{L}_{X_i}^{\\phi} k_{uu}(X_i, X_j; \\sigma) \\\\\n",
    "= \\phi k_{uu} + \\frac{\\partial}{\\partial x_i}k_{uu} + \\frac{\\partial^2}{\\partial y_i^2}k_{uu}$"
   ]
  },
  {
   "cell_type": "code",
   "execution_count": 6,
   "metadata": {},
   "outputs": [],
   "source": [
    "kfu_sym = phi*kuu_sym \\\n",
    "        + sp.diff(kuu_sym, x_i) \\\n",
    "        + sp.diff(kuu_sym, y_i, y_i)\n",
    "kfu_fn = sp.lambdify((x_i, x_j, y_i, y_j, sigma, l_x, l_y, phi), kfu_sym, \"numpy\")\n",
    "def kfu(x, y, sigma, l_x, l_y, phi):\n",
    "    k = np.zeros((x.size, x.size))\n",
    "    for i in range(x.size):\n",
    "        for j in range(x.size):\n",
    "            k[i,j] = kfu_fn(x[i], x[j], y[i], y[j], sigma, l_x, l_y, phi)\n",
    "    return k"
   ]
  },
  {
   "cell_type": "code",
   "execution_count": 7,
   "metadata": {},
   "outputs": [],
   "source": [
    "def kuf(x, t, sigma, l_x, l_y, phi):\n",
    "    return kfu(x, t, sigma, l_x, l_y, phi).T"
   ]
  },
  {
   "cell_type": "markdown",
   "metadata": {},
   "source": [
    "#### Step 3: Compute NLML"
   ]
  },
  {
   "cell_type": "code",
   "execution_count": 8,
   "metadata": {},
   "outputs": [],
   "source": [
    "def nlml(params, x, y, y1, y2, s):\n",
    "    sigma_exp = np.exp(params[0]) \n",
    "    l_x_exp = np.exp(params[1])\n",
    "    l_y_exp = np.exp(params[2]) \n",
    "    # phi = params[3]\n",
    "    K = np.block([\n",
    "        [kuu(x, y, sigma_exp, l_x_exp, l_y_exp) + s*np.identity(x.size), kuf(x, y, sigma_exp, l_x_exp, l_y_exp, params[3])],\n",
    "        [kfu(x, y, sigma_exp, l_x_exp, l_y_exp, params[3]), kff(x, y, sigma_exp, l_x_exp, l_y_exp, params[3]) + s*np.identity(x.size)]\n",
    "    ])\n",
    "    y = np.concatenate((y1, y2))  \n",
    "    \n",
    "    val = np.linalg.slogdet(K) + np.mat(y) * np.linalg.inv(K) * np.mat(y).T\n",
    "    return val.item(0)"
   ]
  },
  {
   "cell_type": "markdown",
   "metadata": {},
   "source": [
    "With SVD:"
   ]
  },
  {
   "cell_type": "code",
   "execution_count": 9,
   "metadata": {},
   "outputs": [],
   "source": [
    "def nlml_svd(params, x, y, y1, y2, s):\n",
    "    sigma_exp = np.exp(params[0])\n",
    "    l_x_exp = np.exp(params[1])\n",
    "    l_y_exp = np.exp(params[2])\n",
    "    # phi = params[3]\n",
    "    K = np.block([\n",
    "        [kuu(x, y, sigma_exp, l_x_exp, l_y_exp) + s*np.identity(x.size), kuf(x, y, sigma_exp, l_x_exp, l_y_exp, params[3])],\n",
    "        [kfu(x, y, sigma_exp, l_x_exp, l_y_exp, params[3]), kff(x, y, sigma_exp, l_x_exp, l_y_exp, params[3]) + s*np.identity(x.size)]\n",
    "    ])\n",
    "    y = np.concatenate((y1, y2))\n",
    "    \n",
    "    u, s, vt = np.linalg.svd(K)\n",
    "    log_sum = 0\n",
    "    for i in range(s.size):\n",
    "        log_sum = log_sum + np.log(np.abs(s[i]))\n",
    "    K_inv = (vt.T).dot(np.linalg.inv(np.diag(s))).dot(u.T)\n",
    "    \n",
    "    val = log_sum + np.mat(y) * K_inv * np.mat(y).T\n",
    "    return val.item(0)"
   ]
  },
  {
   "cell_type": "markdown",
   "metadata": {},
   "source": [
    "Result:"
   ]
  },
  {
   "cell_type": "code",
   "execution_count": 10,
   "metadata": {},
   "outputs": [
    {
     "name": "stdout",
     "output_type": "stream",
     "text": [
      "The time needed for standard nlml was 71.26787805557251\n",
      " final_simplex: (array([[  42.73194289, -131.08758055,   15.03694152,   31.07984587],\n",
      "       [  42.73193848, -131.0875649 ,   15.03693967,   31.07984231],\n",
      "       [  42.73195669, -131.08761938,   15.0369454 ,   31.07985499],\n",
      "       [  42.73196569, -131.08764995,   15.0369489 ,   31.07986224],\n",
      "       [  42.73196977, -131.08766351,   15.03695061,   31.07986538]]), array([1., 1., 1., 1., 1.]))\n",
      "           fun: 1.0\n",
      "       message: 'Optimization terminated successfully.'\n",
      "          nfev: 177\n",
      "           nit: 57\n",
      "        status: 0\n",
      "       success: True\n",
      "             x: array([  42.73194289, -131.08758055,   15.03694152,   31.07984587])\n",
      "31.07984587406263 \n",
      "\n",
      "The time needed for nlml with svd was 320.26781940460205\n",
      " final_simplex: (array([[1461.25648885,   46.44656343, 1706.75057846,    1.99999081],\n",
      "       [1461.25648885,   46.44656343, 1706.75057846,    1.99999081],\n",
      "       [1461.25648885,   46.44656343, 1706.75057846,    1.99999081],\n",
      "       [1461.25648885,   46.44656343, 1706.75057846,    1.99999081],\n",
      "       [1461.25648885,   46.44656343, 1706.75057846,    1.99999081]]), array([-1170.42071219, -1170.42071219, -1170.42071219, -1170.42071219,\n",
      "       -1170.42071219]))\n",
      "           fun: -1170.4207121900588\n",
      "       message: 'Optimization terminated successfully.'\n",
      "          nfev: 809\n",
      "           nit: 395\n",
      "        status: 0\n",
      "       success: True\n",
      "             x: array([1461.25648885,   46.44656343, 1706.75057846,    1.99999081])\n",
      "1.9999908050839705\n"
     ]
    }
   ],
   "source": [
    "nlml_wp = lambda params: nlml(params, x, y, y_u, y_f, 1e-7)\n",
    "t0 = time.time()\n",
    "out1 = minimize(nlml_wp, np.random.rand(4), method=\"Nelder-Mead\", options={'maxiter':5000, 'fatol':0.001})\n",
    "t1 = time.time() - t0\n",
    "print(\"The time needed for standard nlml was\", t1)\n",
    "print(out1)\n",
    "print(out1.x[3], '\\n')\n",
    "\n",
    "nlml_sv = lambda params: nlml_svd(params, x, y, y_u, y_f, 1e-7)\n",
    "t0_svd = time.time()\n",
    "out_sv = minimize(nlml_sv, np.random.rand(4), method=\"Nelder-Mead\", options={'maxiter':5000, 'fatol':0.001})\n",
    "t1_svd = time.time() - t0_svd\n",
    "print(\"The time needed for nlml with svd was\", t1_svd)\n",
    "print(out_sv)\n",
    "print(out_sv.x[3])"
   ]
  },
  {
   "cell_type": "code",
   "execution_count": null,
   "metadata": {},
   "outputs": [],
   "source": []
  }
 ],
 "metadata": {
  "kernelspec": {
   "display_name": "Python 3",
   "language": "python",
   "name": "python3"
  },
  "language_info": {
   "codemirror_mode": {
    "name": "ipython",
    "version": 3
   },
   "file_extension": ".py",
   "mimetype": "text/x-python",
   "name": "python",
   "nbconvert_exporter": "python",
   "pygments_lexer": "ipython3",
   "version": "3.6.7"
  }
 },
 "nbformat": 4,
 "nbformat_minor": 2
}
